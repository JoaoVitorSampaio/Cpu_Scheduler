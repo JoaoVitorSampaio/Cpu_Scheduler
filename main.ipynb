{
 "cells": [
  {
   "cell_type": "markdown",
   "id": "392bfae9",
   "metadata": {},
   "source": [
    "Section 1: Imports and Data Structures"
   ]
  },
  {
   "cell_type": "markdown",
   "id": "6a0b27fc",
   "metadata": {},
   "source": [
    "This section imports necessary libraries and defines the Process class, which serves as a blueprint for each process to be scheduled."
   ]
  },
  {
   "cell_type": "code",
   "execution_count": null,
   "id": "85044aca",
   "metadata": {},
   "outputs": [],
   "source": [
    "# Import the 'sys' module to interact with the Python interpreter.\n",
    "import sys\n",
    "# Import 'files' from 'google.colab' to enable file uploads in Colab.\n",
    "from google.colab import files\n",
    "# Import 'io' to work with in-memory I/O streams for file content.\n",
    "import io\n",
    "\n",
    "# Define the Process class to hold process attributes.\n",
    "class Process:\n",
    "    # The constructor initializes a new Process object.\n",
    "    def __init__(self, arrival_time, burst_time, pid):\n",
    "        # The time the process arrives in the system.\n",
    "        self.arrival_time = arrival_time\n",
    "        # The total CPU time required for the process.\n",
    "        self.burst_time = burst_time\n",
    "        # The remaining execution time. Initially, it's the same as burst_time.\n",
    "        self.remaining_time = burst_time\n",
    "        # The time at which the process completes execution.\n",
    "        self.completion_time = 0\n",
    "        # The total time from arrival to completion.\n",
    "        self.turnaround_time = 0\n",
    "        # The total time the process waits in the ready queue.\n",
    "        self.waiting_time = 0\n",
    "        # The time from arrival until the first time the process is executed. -1 indicates it hasn't run yet.\n",
    "        self.response_time = -1\n",
    "        # The process ID, used for tie-breaking in some algorithms.\n",
    "        self.pid = pid"
   ]
  },
  {
   "cell_type": "markdown",
   "id": "19d29495",
   "metadata": {},
   "source": [
    "Section 2: Metric Calculation"
   ]
  },
  {
   "cell_type": "markdown",
   "id": "f48a715a",
   "metadata": {},
   "source": [
    "This section contains a helper function to compute the average turnaround, response, and waiting times for a list of processes after a scheduling algorithm has been run."
   ]
  },
  {
   "cell_type": "code",
   "execution_count": null,
   "id": "c9103da0",
   "metadata": {},
   "outputs": [],
   "source": [
    "# Function to calculate average metrics for a set of processes.\n",
    "def calculate_metrics(processes):\n",
    "    # Get the number of processes in the list.\n",
    "    num_processes = len(processes)\n",
    "    # Avoid division by zero if there are no processes.\n",
    "    if num_processes == 0:\n",
    "        return 0.0, 0.0, 0.0\n",
    "\n",
    "    # Calculate the total sum of each metric.\n",
    "    total_turnaround_time = sum(p.turnaround_time for p in processes)\n",
    "    total_response_time = sum(p.response_time for p in processes)\n",
    "    total_waiting_time = sum(p.waiting_time for p in processes)\n",
    "\n",
    "    # Calculate the average of each metric.\n",
    "    avg_turnaround_time = total_turnaround_time / num_processes\n",
    "    avg_response_time = total_response_time / num_processes\n",
    "    avg_waiting_time = total_waiting_time / num_processes\n",
    "\n",
    "    # Return the average metrics as a tuple.\n",
    "    return avg_turnaround_time, avg_response_time, avg_waiting_time"
   ]
  }
 ],
 "metadata": {
  "language_info": {
   "name": "python"
  }
 },
 "nbformat": 4,
 "nbformat_minor": 5
}
